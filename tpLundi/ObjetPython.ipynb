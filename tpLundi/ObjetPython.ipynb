{
 "cells": [
  {
   "cell_type": "code",
   "execution_count": 18,
   "metadata": {},
   "outputs": [],
   "source": [
    "class CompteBancaire:\n",
    "    def __init__(self,nom = 'DUPONT',solde = 1000):\n",
    "        self.nom = nom\n",
    "        self.solde = solde\n",
    "        \n",
    "    def depot(self,somme):\n",
    "        self.solde += somme\n",
    "        \n",
    "    def retrait(self,somme):\n",
    "        self.solde -= somme\n",
    "    \n",
    "    def affiche(self):\n",
    "        print(\"Le solde du compte bancaire de %s est de %.2f euros.\"%(self.nom,self.solde))\n",
    "        \n",
    "\n",
    " "
   ]
  },
  {
   "cell_type": "code",
   "execution_count": 19,
   "metadata": {},
   "outputs": [
    {
     "name": "stdout",
     "output_type": "stream",
     "text": [
      "Le solde du compte bancaire de Duchmol est de 950.00 euros.\n",
      "Le solde du compte bancaire de DUPONT est de 1025.00 euros.\n"
     ]
    }
   ],
   "source": [
    "compte1 = CompteBancaire('Duchmol',800)\n",
    "compte1.depot(350) \n",
    "compte1.retrait(200)\n",
    "compte1.affiche()\n",
    " \n",
    "compte2 = CompteBancaire()\n",
    "compte2.depot(25)\n",
    "compte2.affiche()"
   ]
  },
  {
   "cell_type": "code",
   "execution_count": 11,
   "metadata": {},
   "outputs": [],
   "source": [
    "class Point:\n",
    "    def __init__(self,x,y,z=None):\n",
    "        self.x=x\n",
    "        self.y=y\n",
    "        self.z=z\n",
    "\n",
    "    def ToString(self):\n",
    "        if self.z==None:print(\"P(%.2f , %.2f)\"%(self.x,self.y))\n",
    "        else:print(\"P(%.2f , %.2f , %.2f)\"%(self.x,self.y,self.z))\n",
    "            "
   ]
  },
  {
   "cell_type": "code",
   "execution_count": 12,
   "metadata": {},
   "outputs": [
    {
     "name": "stdout",
     "output_type": "stream",
     "text": [
      "P(2.00 , 3.00)\n",
      "P(1.00 , -5.00 , 6.00)\n"
     ]
    }
   ],
   "source": [
    "P1=Point(2,3)\n",
    "P1.ToString()\n",
    "\n",
    "\n",
    "P2=Point(1,-5,6)\n",
    "P2.ToString()"
   ]
  },
  {
   "cell_type": "code",
   "execution_count": 20,
   "metadata": {},
   "outputs": [],
   "source": [
    "class DateNaissance:\n",
    "    def __init__(self,jour,mois,annee):\n",
    "        self.jour=jour\n",
    "        self.mois=mois\n",
    "        self.annee=annee\n",
    "         \n",
    "    def ToString(self):\n",
    "        return \"%02d / %02d / %d\" %(self.jour,self.mois,self.annee)"
   ]
  },
  {
   "cell_type": "code",
   "execution_count": 37,
   "metadata": {},
   "outputs": [],
   "source": [
    "class personne:\n",
    "    def __init__(self,nom,prenom,date_naissance):\n",
    "        self.nom=nom\n",
    "        self.prenom=prenom\n",
    "        self.date_naissance=date_naissance\n",
    "         \n",
    "    def afficher(self):\n",
    "        print(\"Nom:%s \\nPrénom: %s \\nDate de naissance: %s\"%(self.nom,self.prenom,self.date_naissance.ToString()))\n",
    " "
   ]
  },
  {
   "cell_type": "code",
   "execution_count": 41,
   "metadata": {},
   "outputs": [],
   "source": [
    "class employe(personne):\n",
    "    def __init__(self,nom,prenom,date_naissance,salaire):\n",
    "        personne.__init__(self,nom,prenom,date_naissance)\n",
    "        self.salaire=salaire\n",
    "        \n",
    "    def afficher(self):\n",
    "        personne.afficher(self)\n",
    "        print(\"Salaire: %.02f\"%self.salaire)"
   ]
  },
  {
   "cell_type": "code",
   "execution_count": 43,
   "metadata": {},
   "outputs": [],
   "source": [
    "class chef(employe):\n",
    "    def __init__(self,nom,prenom,date_naissance,salaire,service):\n",
    "        employe.__init__(self,nom,prenom,date_naissance,salaire)\n",
    "        self.service=service\n",
    "        \n",
    "    def afficher(self):\n",
    "        employe.afficher(self)\n",
    "        print(\"Service: %s\"%self.service)"
   ]
  },
  {
   "cell_type": "code",
   "execution_count": 40,
   "metadata": {},
   "outputs": [
    {
     "name": "stdout",
     "output_type": "stream",
     "text": [
      "Nom:Ilyass \n",
      "Prénom: Math \n",
      "Date de naissance: 01 / 07 / 1982\n",
      "Nom:Ilyass \n",
      "Prénom: Math \n",
      "Date de naissance: 01 / 07 / 1985\n",
      "Salaire: 7865.55\n",
      "Nom:Ilyass \n",
      "Prénom: Math \n",
      "Date de naissance: 01 / 07 / 1988\n",
      "Salaire: 7865.55\n",
      "Service: Ressource humaine\n"
     ]
    }
   ],
   "source": [
    "P=personne('Ilyass','Math',DateNaissance(1,7,1982))\n",
    "P.afficher()\n",
    "\n",
    "E=employe('Ilyass','Math',DateNaissance(1,7,1985),7865.548)\n",
    "E.afficher()\n",
    "\n",
    "Ch=chef('Ilyass','Math',DateNaissance(1,7,1988),7865.548,'Ressource humaine')\n",
    "Ch.afficher()"
   ]
  },
  {
   "cell_type": "code",
   "execution_count": 55,
   "metadata": {},
   "outputs": [],
   "source": [
    "class Courrier:\n",
    "    def __init__(self,AdresseDestination,AdressExpedition,weight,mode):\n",
    "        self.AdresseDestination=AdresseDestination\n",
    "        self.AdressExpedition=AdressExpedition\n",
    "        self.weight=weight\n",
    "        self.mode=mode\n",
    "         \n",
    "    def ToString(self):  \n",
    "        print(\" Adresse destination: %s \\n Adress expedition: %s\\n Poids: %f grammes\\n Mode: %s \"%(self.AdresseDestination,self.AdressExpedition,self.weight,self.mode))\n",
    " \n",
    " "
   ]
  },
  {
   "cell_type": "code",
   "execution_count": 63,
   "metadata": {},
   "outputs": [],
   "source": [
    "class Lettre(Courrier):\n",
    "    def __init__(self,AdresseDestination,AdressExpedition,weight,mode,format):\n",
    "        Courrier.__init__(self,AdresseDestination,AdressExpedition,weight,mode)\n",
    "        self.format=format\n",
    "         \n",
    "    def calculTimbre(self):\n",
    "            tarif_base=2.5\n",
    "        if self.format==\"A3\":\n",
    "            tarif_base=3.5\n",
    "        montant=tarif_base*self.weight/1000\n",
    "        if self.mode==\"expresse\":\n",
    "            montant*=2\n",
    "        return montant\n",
    "         \n",
    "    def ToString(self):\n",
    "        print(\"Lettre:\")\n",
    "        Courrier.ToString(self)\n",
    "        print(\" Format:%s\\n Prix du timbre:%f\"%(self.format,self.calculTimbre())+\"\\n\")\n"
   ]
  },
  {
   "cell_type": "code",
   "execution_count": 66,
   "metadata": {},
   "outputs": [],
   "source": [
    "class Colis(Courrier):\n",
    "    def __init__(self,AdresseDestination,AdressExpedition,weight,mode,volume):\n",
    "        Courrier.__init__(self,AdresseDestination,AdressExpedition,weight,mode)\n",
    "        self.volume=volume\n",
    "        \n",
    "    def calculTimbre(self):\n",
    "        montant=0.25*self.volume*self.weight/1000\n",
    "        if self.mode==\"expresse\":\n",
    "            montant*=2\n",
    "        return montant\n",
    "         \n",
    "    def ToString(self):\n",
    "        print(\"Collis:\")\n",
    "        Courrier.ToString(self)\n",
    "        print(\" Volume: %f litres\\n Prix du timbre:%f\"%(self.volume,self.calculTimbre())+\"\\n\")\n"
   ]
  },
  {
   "cell_type": "code",
   "execution_count": 67,
   "metadata": {
    "scrolled": true
   },
   "outputs": [
    {
     "name": "stdout",
     "output_type": "stream",
     "text": [
      "Lettre:\n",
      " Adresse destination: Lille \n",
      " Adress expedition: Paris\n",
      " Poids: 80.000000 grammes\n",
      " Mode: normal \n",
      " Format:A4\n",
      " Prix du timbre:0.200000\n",
      "\n",
      "Collis:\n",
      " Adresse destination: Marrakeche \n",
      " Adress expedition: Barcelone\n",
      " Poids: 3500.000000 grammes\n",
      " Mode: expresse \n",
      " Volume: 2.250000 litres\n",
      " Prix du timbre:3.937500\n",
      "\n"
     ]
    }
   ],
   "source": [
    "L1=Lettre('Lille','Paris',80,'normal','A4')\n",
    "L1.ToString()\n",
    "\n",
    "C1=Colis('Marrakeche','Barcelone',3500,'expresse',2.25)\n",
    "C1.ToString()"
   ]
  },
  {
   "cell_type": "markdown",
   "metadata": {},
   "source": []
  }
 ],
 "metadata": {
  "kernelspec": {
   "display_name": "Python 3",
   "language": "python",
   "name": "python3"
  },
  "language_info": {
   "codemirror_mode": {
    "name": "ipython",
    "version": 3
   },
   "file_extension": ".py",
   "mimetype": "text/x-python",
   "name": "python",
   "nbconvert_exporter": "python",
   "pygments_lexer": "ipython3",
   "version": "3.6.9"
  }
 },
 "nbformat": 4,
 "nbformat_minor": 2
}
